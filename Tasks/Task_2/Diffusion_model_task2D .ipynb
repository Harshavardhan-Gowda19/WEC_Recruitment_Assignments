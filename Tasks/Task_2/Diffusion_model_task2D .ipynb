{
  "nbformat": 4,
  "nbformat_minor": 0,
  "metadata": {
    "colab": {
      "provenance": [],
      "gpuType": "V28"
    },
    "kernelspec": {
      "name": "python3",
      "display_name": "Python 3"
    },
    "language_info": {
      "name": "python"
    },
    "accelerator": "TPU"
  },
  "cells": [
    {
      "cell_type": "code",
      "execution_count": 1,
      "metadata": {
        "colab": {
          "base_uri": "https://localhost:8080/"
        },
        "id": "QQeTLGwZDVwp",
        "outputId": "f77b1786-2dce-4434-82b3-955cbf2b8c6f"
      },
      "outputs": [
        {
          "output_type": "stream",
          "name": "stdout",
          "text": [
            "Mounted at /content/drive\n"
          ]
        }
      ],
      "source": [
        "from google.colab import drive\n",
        "drive.mount('/content/drive', force_remount=True)"
      ]
    },
    {
      "cell_type": "code",
      "source": [
        "!cp \"/content/drive/MyDrive/archive.zip\" /content/"
      ],
      "metadata": {
        "id": "tkc95YuDDgj7"
      },
      "execution_count": 2,
      "outputs": []
    },
    {
      "cell_type": "code",
      "source": [
        "!unzip -q \"/content/drive/MyDrive/archive.zip\" -d /content/"
      ],
      "metadata": {
        "id": "phNHhvI9Du-T"
      },
      "execution_count": 3,
      "outputs": []
    },
    {
      "cell_type": "code",
      "source": [
        "!pip install torchmetrics"
      ],
      "metadata": {
        "colab": {
          "base_uri": "https://localhost:8080/"
        },
        "id": "eCHoQbXoEGaT",
        "outputId": "14fcd29e-9b52-489c-e3b8-5cafe8d8e8d4"
      },
      "execution_count": 5,
      "outputs": [
        {
          "output_type": "stream",
          "name": "stdout",
          "text": [
            "Collecting torchmetrics\n",
            "  Downloading torchmetrics-1.5.1-py3-none-any.whl.metadata (20 kB)\n",
            "Requirement already satisfied: numpy<2.0,>1.20.0 in /usr/local/lib/python3.10/dist-packages (from torchmetrics) (1.26.4)\n",
            "Requirement already satisfied: packaging>17.1 in /usr/local/lib/python3.10/dist-packages (from torchmetrics) (24.1)\n",
            "Requirement already satisfied: torch>=1.10.0 in /usr/local/lib/python3.10/dist-packages (from torchmetrics) (2.5.0+cpu)\n",
            "Collecting lightning-utilities>=0.8.0 (from torchmetrics)\n",
            "  Downloading lightning_utilities-0.11.8-py3-none-any.whl.metadata (5.2 kB)\n",
            "Requirement already satisfied: setuptools in /usr/local/lib/python3.10/dist-packages (from lightning-utilities>=0.8.0->torchmetrics) (75.1.0)\n",
            "Requirement already satisfied: typing-extensions in /usr/local/lib/python3.10/dist-packages (from lightning-utilities>=0.8.0->torchmetrics) (4.12.2)\n",
            "Requirement already satisfied: filelock in /usr/local/lib/python3.10/dist-packages (from torch>=1.10.0->torchmetrics) (3.16.1)\n",
            "Requirement already satisfied: networkx in /usr/local/lib/python3.10/dist-packages (from torch>=1.10.0->torchmetrics) (3.4.2)\n",
            "Requirement already satisfied: jinja2 in /usr/local/lib/python3.10/dist-packages (from torch>=1.10.0->torchmetrics) (3.1.4)\n",
            "Requirement already satisfied: fsspec in /usr/local/lib/python3.10/dist-packages (from torch>=1.10.0->torchmetrics) (2024.10.0)\n",
            "Requirement already satisfied: sympy==1.13.1 in /usr/local/lib/python3.10/dist-packages (from torch>=1.10.0->torchmetrics) (1.13.1)\n",
            "Requirement already satisfied: mpmath<1.4,>=1.1.0 in /usr/local/lib/python3.10/dist-packages (from sympy==1.13.1->torch>=1.10.0->torchmetrics) (1.3.0)\n",
            "Requirement already satisfied: MarkupSafe>=2.0 in /usr/local/lib/python3.10/dist-packages (from jinja2->torch>=1.10.0->torchmetrics) (3.0.2)\n",
            "Downloading torchmetrics-1.5.1-py3-none-any.whl (890 kB)\n",
            "\u001b[2K   \u001b[90m━━━━━━━━━━━━━━━━━━━━━━━━━━━━━━━━━━━━━━━━\u001b[0m \u001b[32m890.6/890.6 kB\u001b[0m \u001b[31m14.2 MB/s\u001b[0m eta \u001b[36m0:00:00\u001b[0m\n",
            "\u001b[?25hDownloading lightning_utilities-0.11.8-py3-none-any.whl (26 kB)\n",
            "Installing collected packages: lightning-utilities, torchmetrics\n",
            "Successfully installed lightning-utilities-0.11.8 torchmetrics-1.5.1\n"
          ]
        }
      ]
    },
    {
      "cell_type": "code",
      "source": [
        "import torch\n",
        "import torch.nn as nn\n",
        "import torch.optim as optim\n",
        "from torchvision import transforms\n",
        "from torch.utils.data import DataLoader, Dataset\n",
        "import torch.nn.functional as F\n",
        "from skimage.metrics import peak_signal_noise_ratio as psnr, structural_similarity as ssim\n",
        "from PIL import Image\n",
        "import os\n",
        "import numpy as np"
      ],
      "metadata": {
        "id": "ciEJvUhdF5_r"
      },
      "execution_count": 16,
      "outputs": []
    },
    {
      "cell_type": "code",
      "source": [
        "# Define custom dataset to load raw and reference images\n",
        "class ImageEnhancementDataset(Dataset):\n",
        "    def __init__(self, raw_dir, ref_dir, transform=None):\n",
        "        self.raw_paths = [os.path.join(raw_dir, f) for f in os.listdir(raw_dir)]\n",
        "        self.ref_paths = [os.path.join(ref_dir, f) for f in os.listdir(ref_dir)]\n",
        "        self.transform = transform\n",
        "\n",
        "    def __len__(self):\n",
        "        return len(self.raw_paths)\n",
        "\n",
        "    def __getitem__(self, idx):\n",
        "        raw_img = Image.open(self.raw_paths[idx]).convert(\"RGB\")\n",
        "        ref_img = Image.open(self.ref_paths[idx]).convert(\"RGB\")\n",
        "\n",
        "        if self.transform:\n",
        "            raw_img = self.transform(raw_img)\n",
        "            ref_img = self.transform(ref_img)\n",
        "\n",
        "        return raw_img, ref_img\n"
      ],
      "metadata": {
        "id": "2XqdgCTrF6tj"
      },
      "execution_count": 17,
      "outputs": []
    },
    {
      "cell_type": "code",
      "source": [
        "# Define forward diffusion process with linear schedule\n",
        "def forward_diffusion(x0, noise, t, T):\n",
        "    t = t.view(-1, 1, 1, 1)\n",
        "    alpha = 1 - (t / T)\n",
        "    return alpha * x0 + (1 - alpha) * noise\n",
        "\n",
        "# U-Net model adapted for 224x224 input images\n",
        "class SimpleUNet(nn.Module):\n",
        "    def __init__(self, in_channels, out_channels):\n",
        "        super(SimpleUNet, self).__init__()\n",
        "\n",
        "        self.encoder = nn.Sequential(\n",
        "            nn.Conv2d(in_channels, 64, kernel_size=3, padding=1),\n",
        "            nn.ReLU(),\n",
        "            nn.Conv2d(64, 128, kernel_size=3, padding=1),\n",
        "            nn.ReLU()\n",
        "        )\n",
        "\n",
        "        self.decoder = nn.Sequential(\n",
        "            nn.Conv2d(128, 64, kernel_size=3, padding=1),\n",
        "            nn.ReLU(),\n",
        "            nn.Conv2d(64, out_channels, kernel_size=3, padding=1),\n",
        "            nn.Sigmoid()\n",
        "        )\n",
        "\n",
        "    def forward(self, x):\n",
        "        x = self.encoder(x)\n",
        "        x = self.decoder(x)\n",
        "        return x\n"
      ],
      "metadata": {
        "id": "WAOmT6IPF_aV"
      },
      "execution_count": 21,
      "outputs": []
    },
    {
      "cell_type": "code",
      "source": [
        "# Hyperparameters\n",
        "T = 1000\n",
        "batch_size = 16\n",
        "learning_rate = 1e-4\n",
        "epochs = 10\n",
        "device = torch.device(\"cuda\" if torch.cuda.is_available() else \"cpu\")\n",
        "\n",
        "transform = transforms.Compose([transforms.Resize((224, 224)), transforms.ToTensor()])\n",
        "\n",
        "# Load dataset\n",
        "train_dataset = ImageEnhancementDataset(\"/content/Train/Raw\", \"/content/Train/Reference\", transform=transform)\n",
        "train_loader = DataLoader(train_dataset, batch_size=batch_size, shuffle=True)\n",
        "\n",
        "# Model, optimizer, loss\n",
        "model = SimpleUNet(in_channels=3, out_channels=3).to(device)\n",
        "optimizer = optim.Adam(model.parameters(), lr=learning_rate)\n",
        "criterion = nn.MSELoss()\n",
        "\n",
        "# Training loop\n",
        "for epoch in range(epochs):\n",
        "    model.train()\n",
        "    for data, target in train_loader:\n",
        "        data, target = data.to(device), target.to(device)\n",
        "        optimizer.zero_grad()\n",
        "\n",
        "        # Forward diffusion\n",
        "        noise = torch.randn_like(data)\n",
        "        t = torch.randint(0, T, (data.shape[0],)).to(device)\n",
        "        xt = forward_diffusion(data, noise, t, T)\n",
        "\n",
        "        # Denoise step\n",
        "        reconstructed = model(xt)\n",
        "        loss = criterion(reconstructed, target)\n",
        "\n",
        "        loss.backward()\n",
        "        optimizer.step()\n",
        "\n",
        "    print(f'Epoch {epoch + 1}/{epochs}, Loss: {loss.item()}')\n"
      ],
      "metadata": {
        "colab": {
          "base_uri": "https://localhost:8080/"
        },
        "id": "98H3sotAGCNO",
        "outputId": "c0754c6b-c859-4264-a5d0-006d70c94ac3"
      },
      "execution_count": 22,
      "outputs": [
        {
          "output_type": "stream",
          "name": "stdout",
          "text": [
            "Epoch 1/10, Loss: 0.05486708879470825\n",
            "Epoch 2/10, Loss: 0.03904678300023079\n",
            "Epoch 3/10, Loss: 0.03909691423177719\n",
            "Epoch 4/10, Loss: 0.03408442810177803\n",
            "Epoch 5/10, Loss: 0.027514753863215446\n",
            "Epoch 6/10, Loss: 0.0422213040292263\n",
            "Epoch 7/10, Loss: 0.04622916877269745\n",
            "Epoch 8/10, Loss: 0.0428997278213501\n",
            "Epoch 9/10, Loss: 0.039231400936841965\n",
            "Epoch 10/10, Loss: 0.03697602078318596\n"
          ]
        }
      ]
    },
    {
      "cell_type": "code",
      "source": [
        "from skimage.metrics import structural_similarity as ssim\n",
        "\n",
        "# Testing loop with MAE, SSIM, and PSNR\n",
        "with torch.no_grad():\n",
        "    for data, target in test_loader:\n",
        "        data, target = data.to(device), target.to(device)\n",
        "\n",
        "        # Diffuse and denoise\n",
        "        noise = torch.randn_like(data)\n",
        "        t = torch.tensor([T-1], device=device).expand(data.shape[0])\n",
        "        xt = forward_diffusion(data, noise, t, T)\n",
        "        reconstructed = model(xt)\n",
        "\n",
        "        # Move to CPU for metric calculation\n",
        "        reconstructed_np = reconstructed.cpu().numpy().transpose(0, 2, 3, 1)\n",
        "        target_np = target.cpu().numpy().transpose(0, 2, 3, 1)\n",
        "\n",
        "        for rec, tgt in zip(reconstructed_np, target_np):\n",
        "            mae_sum += np.mean(np.abs(rec - tgt))\n",
        "            ssim_sum += ssim(rec, tgt, channel_axis=-1, data_range=1.0)\n",
        "            psnr_sum += psnr(tgt, rec, data_range=1.0)\n",
        "\n",
        "        num_batches += data.size(0)\n",
        "\n",
        "# Compute average metrics\n",
        "mae_avg = mae_sum / num_batches\n",
        "ssim_avg = ssim_sum / num_batches\n",
        "psnr_avg = psnr_sum / num_batches\n",
        "\n",
        "print(f\"Test MAE: {mae_avg:.4f}, SSIM: {ssim_avg:.4f}, PSNR: {psnr_avg:.4f}\")\n"
      ],
      "metadata": {
        "colab": {
          "base_uri": "https://localhost:8080/"
        },
        "id": "K2wU0WIYKud8",
        "outputId": "f27edc11-2da5-41b5-f3f5-4856facb657c"
      },
      "execution_count": 27,
      "outputs": [
        {
          "output_type": "stream",
          "name": "stdout",
          "text": [
            "Test MAE: 0.2130, SSIM: 0.1199, PSNR: 12.1094\n"
          ]
        }
      ]
    }
  ]
}